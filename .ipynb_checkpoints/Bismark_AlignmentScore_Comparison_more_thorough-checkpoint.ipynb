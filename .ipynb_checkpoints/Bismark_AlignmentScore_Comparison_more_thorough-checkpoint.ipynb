{
 "cells": [
  {
   "cell_type": "code",
   "execution_count": null,
   "metadata": {
    "collapsed": true
   },
   "outputs": [],
   "source": [
    "## make mapping summary file that includes CpG info"
   ]
  },
  {
   "cell_type": "code",
   "execution_count": null,
   "metadata": {
    "collapsed": true
   },
   "outputs": [],
   "source": [
    "#first preview what this file would look like"
   ]
  },
  {
   "cell_type": "code",
   "execution_count": 7,
   "metadata": {},
   "outputs": [
    {
     "name": "stdout",
     "output_type": "stream",
     "text": [
      "Sequence pairs analysed in total:\t100000\n",
      "Number of paired-end alignments with a unique best hit:\t55304\n",
      "Mapping efficiency:\t55.3% \n",
      "Sequence pairs with no alignments under any condition:\t27490\n",
      "Sequence pairs did not map uniquely:\t17206\n",
      "Sequence pairs which were discarded because genomic sequence could not be extracted:\t0\n",
      "C methylated in CpG context:\t68.8%\n",
      "C methylated in CHG context:\t3.2%\n",
      "C methylated in CHH context:\t4.0%\n",
      "C methylated in unknown context (CN or CHN):\t19.7%\n",
      "Sequence pairs analysed in total:\t100000\n",
      "Number of paired-end alignments with a unique best hit:\t25623\n",
      "Mapping efficiency:\t25.6% \n",
      "Sequence pairs with no alignments under any condition:\t66914\n",
      "Sequence pairs did not map uniquely:\t7463\n",
      "Sequence pairs which were discarded because genomic sequence could not be extracted:\t0\n",
      "C methylated in CpG context:\t69.2%\n",
      "C methylated in CHG context:\t3.9%\n",
      "C methylated in CHH context:\t7.3%\n",
      "C methylated in unknown context (CN or CHN):\t26.3%\n",
      "Sequence pairs analysed in total:\t100000\n",
      "Number of paired-end alignments with a unique best hit:\t50484\n",
      "Mapping efficiency:\t50.5% \n",
      "Sequence pairs with no alignments under any condition:\t33358\n",
      "Sequence pairs did not map uniquely:\t16158\n",
      "Sequence pairs which were discarded because genomic sequence could not be extracted:\t0\n",
      "C methylated in CpG context:\t70.2%\n",
      "C methylated in CHG context:\t3.4%\n",
      "C methylated in CHH context:\t5.4%\n",
      "C methylated in unknown context (CN or CHN):\t20.9%\n",
      "Sequence pairs analysed in total:\t100000\n",
      "Number of paired-end alignments with a unique best hit:\t55171\n",
      "Mapping efficiency:\t55.2% \n",
      "Sequence pairs with no alignments under any condition:\t26540\n",
      "Sequence pairs did not map uniquely:\t18289\n",
      "Sequence pairs which were discarded because genomic sequence could not be extracted:\t0\n",
      "C methylated in CpG context:\t76.3%\n",
      "C methylated in CHG context:\t3.1%\n",
      "C methylated in CHH context:\t3.8%\n",
      "C methylated in unknown context (CN or CHN):\t18.7%\n",
      "Sequence pairs analysed in total:\t100000\n",
      "Number of paired-end alignments with a unique best hit:\t56412\n",
      "Mapping efficiency:\t56.4% \n",
      "Sequence pairs with no alignments under any condition:\t25464\n",
      "Sequence pairs did not map uniquely:\t18124\n",
      "Sequence pairs which were discarded because genomic sequence could not be extracted:\t0\n",
      "C methylated in CpG context:\t65.5%\n",
      "C methylated in CHG context:\t3.0%\n",
      "C methylated in CHH context:\t4.3%\n",
      "C methylated in unknown context (CN or CHN):\t18.4%\n",
      "Sequence pairs analysed in total:\t100000\n",
      "Number of paired-end alignments with a unique best hit:\t53779\n",
      "Mapping efficiency:\t53.8% \n",
      "Sequence pairs with no alignments under any condition:\t29695\n",
      "Sequence pairs did not map uniquely:\t16526\n",
      "Sequence pairs which were discarded because genomic sequence could not be extracted:\t0\n",
      "C methylated in CpG context:\t67.1%\n",
      "C methylated in CHG context:\t3.2%\n",
      "C methylated in CHH context:\t4.1%\n",
      "C methylated in unknown context (CN or CHN):\t19.5%\n",
      "Sequence pairs analysed in total:\t100000\n",
      "Number of paired-end alignments with a unique best hit:\t56844\n",
      "Mapping efficiency:\t56.8% \n",
      "Sequence pairs with no alignments under any condition:\t25108\n",
      "Sequence pairs did not map uniquely:\t18048\n",
      "Sequence pairs which were discarded because genomic sequence could not be extracted:\t0\n",
      "C methylated in CpG context:\t72.8%\n",
      "C methylated in CHG context:\t3.2%\n",
      "C methylated in CHH context:\t4.2%\n",
      "C methylated in unknown context (CN or CHN):\t18.4%\n",
      "Sequence pairs analysed in total:\t100000\n",
      "Number of paired-end alignments with a unique best hit:\t53463\n",
      "Mapping efficiency:\t53.5% \n",
      "Sequence pairs with no alignments under any condition:\t30401\n",
      "Sequence pairs did not map uniquely:\t16136\n",
      "Sequence pairs which were discarded because genomic sequence could not be extracted:\t0\n",
      "C methylated in CpG context:\t71.0%\n",
      "C methylated in CHG context:\t3.3%\n",
      "C methylated in CHH context:\t4.1%\n",
      "C methylated in unknown context (CN or CHN):\t18.5%\n",
      "Sequence pairs analysed in total:\t100000\n",
      "Number of paired-end alignments with a unique best hit:\t48884\n",
      "Mapping efficiency:\t48.9% \n",
      "Sequence pairs with no alignments under any condition:\t36530\n",
      "Sequence pairs did not map uniquely:\t14586\n",
      "Sequence pairs which were discarded because genomic sequence could not be extracted:\t0\n",
      "C methylated in CpG context:\t66.1%\n",
      "C methylated in CHG context:\t3.3%\n",
      "C methylated in CHH context:\t4.7%\n",
      "C methylated in unknown context (CN or CHN):\t20.0%\n",
      "Sequence pairs analysed in total:\t100000\n",
      "Number of paired-end alignments with a unique best hit:\t52449\n",
      "Mapping efficiency:\t52.4% \n",
      "Sequence pairs with no alignments under any condition:\t30963\n",
      "Sequence pairs did not map uniquely:\t16588\n",
      "Sequence pairs which were discarded because genomic sequence could not be extracted:\t0\n",
      "C methylated in CpG context:\t75.8%\n",
      "C methylated in CHG context:\t3.5%\n",
      "C methylated in CHH context:\t4.2%\n",
      "C methylated in unknown context (CN or CHN):\t19.5%\n"
     ]
    }
   ],
   "source": [
    "!cat /Volumes/web/metacarcinus/Cvirginica/Bismark_attempt2/*PE_report.txt | \\\n",
    "grep -E 'Mapping\\ efficiency\\:|paired-end|Sequence|C methylated'\n"
   ]
  },
  {
   "cell_type": "code",
   "execution_count": null,
   "metadata": {
    "collapsed": true
   },
   "outputs": [],
   "source": [
    "#file looks good so save it"
   ]
  },
  {
   "cell_type": "code",
   "execution_count": 19,
   "metadata": {},
   "outputs": [],
   "source": [
    "!cat /Volumes/web/metacarcinus/Cvirginica/Bismark_attempt2/*PE_report.txt | \\\n",
    "grep -E 'Mapping\\ efficiency\\:|paired-end|Sequence|C methylated' \\\n",
    "> /Volumes/web/metacarcinus/Cvirginica/Bismark_attempt2/zr2096_mapping_CpG_summary.txt"
   ]
  },
  {
   "cell_type": "code",
   "execution_count": 10,
   "metadata": {
    "collapsed": true
   },
   "outputs": [],
   "source": [
    "#now create these summary files for each alignment BUT only save the second column (the numbers after the colon) so that they can be pasted together"
   ]
  },
  {
   "cell_type": "code",
   "execution_count": 11,
   "metadata": {
    "collapsed": true
   },
   "outputs": [],
   "source": [
    "!cat /Volumes/web/metacarcinus/Cvirginica/Bismark_attempt3/*PE_report.txt | \\\n",
    "grep -E 'Mapping\\ efficiency\\:|paired-end|Sequence|C methylated' |\\\n",
    "awk -F\"\\t\" '{print $2}' \\\n",
    "> /Volumes/web/metacarcinus/Cvirginica/Bismark_attempt3/zr2096_mapping_CpG_summary.txt"
   ]
  },
  {
   "cell_type": "code",
   "execution_count": 12,
   "metadata": {
    "collapsed": true
   },
   "outputs": [],
   "source": [
    "!cat /Volumes/web/metacarcinus/Cvirginica/Bismark_attempt4/*PE_report.txt | \\\n",
    "grep -E 'Mapping\\ efficiency\\:|paired-end|Sequence|C methylated' |\\\n",
    "awk -F\"\\t\" '{print $2}' \\\n",
    "> /Volumes/web/metacarcinus/Cvirginica/Bismark_attempt4/zr2096_mapping_CpG_summary.txt"
   ]
  },
  {
   "cell_type": "code",
   "execution_count": 13,
   "metadata": {
    "collapsed": true
   },
   "outputs": [],
   "source": [
    "!cat /Volumes/web/metacarcinus/Cvirginica/Bismark_attempt5/*PE_report.txt | \\\n",
    "grep -E 'Mapping\\ efficiency\\:|paired-end|Sequence|C methylated' |\\\n",
    "awk -F\"\\t\" '{print $2}' \\\n",
    "> /Volumes/web/metacarcinus/Cvirginica/Bismark_attempt5/zr2096_mapping_CpG_summary.txt"
   ]
  },
  {
   "cell_type": "code",
   "execution_count": 14,
   "metadata": {
    "collapsed": true
   },
   "outputs": [],
   "source": [
    "!cat /Volumes/web/metacarcinus/Cvirginica/Bismark_attempt6/*PE_report.txt | \\\n",
    "grep -E 'Mapping\\ efficiency\\:|paired-end|Sequence|C methylated' |\\\n",
    "awk -F\"\\t\" '{print $2}' \\\n",
    "> /Volumes/web/metacarcinus/Cvirginica/Bismark_attempt6/zr2096_mapping_CpG_summary.txt"
   ]
  },
  {
   "cell_type": "code",
   "execution_count": null,
   "metadata": {
    "collapsed": true
   },
   "outputs": [],
   "source": [
    "#now paste all files together as columns; preview what it looks like first"
   ]
  },
  {
   "cell_type": "code",
   "execution_count": 22,
   "metadata": {},
   "outputs": [
    {
     "name": "stdout",
     "output_type": "stream",
     "text": [
      "Sequence pairs analysed in total:\t100000\t100000\t100000\t100000\t100000\r\n",
      "Number of paired-end alignments with a unique best hit:\t55304\t35458\t79505\t52694\t16486\r\n",
      "Mapping efficiency:\t55.3% \t35.5% \t79.5% \t52.7% \t16.5% \r\n",
      "Sequence pairs with no alignments under any condition:\t27490\t51704\t213\t31468\t78915\r\n",
      "Sequence pairs did not map uniquely:\t17206\t12838\t20282\t15838\t4599\r\n",
      "Sequence pairs which were discarded because genomic sequence could not be extracted:\t0\t0\t0\t0\t0\r\n",
      "C methylated in CpG context:\t68.8%\t72.4%\t65.9%\t68.8%\t64.6%\r\n",
      "C methylated in CHG context:\t3.2%\t2.6%\t4.7%\t3.2%\t3.3%\r\n",
      "C methylated in CHH context:\t4.0%\t2.7%\t8.2%\t3.9%\t4.6%\r\n",
      "C methylated in unknown context (CN or CHN):\t19.7%\t24.2%\t26.5%\t19.4%\t20.4%\r\n"
     ]
    }
   ],
   "source": [
    "!paste -d'\\t' \\\n",
    "/Volumes/web/metacarcinus/Cvirginica/Bismark_attempt2/zr2096_mapping_CpG_summary.txt \\\n",
    "/Volumes/web/metacarcinus/Cvirginica/Bismark_attempt3/zr2096_mapping_CpG_summary.txt \\\n",
    "/Volumes/web/metacarcinus/Cvirginica/Bismark_attempt4/zr2096_mapping_CpG_summary.txt \\\n",
    "/Volumes/web/metacarcinus/Cvirginica/Bismark_attempt5/zr2096_mapping_CpG_summary.txt \\\n",
    "/Volumes/web/metacarcinus/Cvirginica/Bismark_attempt6/zr2096_mapping_CpG_summary.txt |\\\n",
    "head"
   ]
  },
  {
   "cell_type": "code",
   "execution_count": null,
   "metadata": {
    "collapsed": true
   },
   "outputs": [],
   "source": [
    "#Looks good so save it"
   ]
  },
  {
   "cell_type": "code",
   "execution_count": 23,
   "metadata": {
    "collapsed": true
   },
   "outputs": [],
   "source": [
    "!paste -d'\\t' \\\n",
    "/Volumes/web/metacarcinus/Cvirginica/Bismark_attempt2/zr2096_mapping_CpG_summary.txt \\\n",
    "/Volumes/web/metacarcinus/Cvirginica/Bismark_attempt3/zr2096_mapping_CpG_summary.txt \\\n",
    "/Volumes/web/metacarcinus/Cvirginica/Bismark_attempt4/zr2096_mapping_CpG_summary.txt \\\n",
    "/Volumes/web/metacarcinus/Cvirginica/Bismark_attempt5/zr2096_mapping_CpG_summary.txt \\\n",
    "/Volumes/web/metacarcinus/Cvirginica/Bismark_attempt6/zr2096_mapping_CpG_summary.txt \\\n",
    "> /Volumes/web/metacarcinus/Cvirginica/bismarkASthreshold_bigger_comparison.txt"
   ]
  },
  {
   "cell_type": "code",
   "execution_count": null,
   "metadata": {
    "collapsed": true
   },
   "outputs": [],
   "source": [
    "#copy data to github repo"
   ]
  },
  {
   "cell_type": "code",
   "execution_count": 24,
   "metadata": {
    "collapsed": true
   },
   "outputs": [],
   "source": [
    "cp /Volumes/web/metacarcinus/Cvirginica/bismarkASthreshold_bigger_comparison.txt \\\n",
    "/Users/Shelly/Documents/GitHub/C_virginica/AlignementScoreComparison"
   ]
  }
 ],
 "metadata": {
  "kernelspec": {
   "display_name": "Python 3",
   "language": "python",
   "name": "python3"
  },
  "language_info": {
   "codemirror_mode": {
    "name": "ipython",
    "version": 3
   },
   "file_extension": ".py",
   "mimetype": "text/x-python",
   "name": "python",
   "nbconvert_exporter": "python",
   "pygments_lexer": "ipython3",
   "version": "3.6.8"
  }
 },
 "nbformat": 4,
 "nbformat_minor": 2
}
